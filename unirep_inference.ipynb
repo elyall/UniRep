{
  "nbformat": 4,
  "nbformat_minor": 0,
  "metadata": {
    "kernelspec": {
      "name": "python3",
      "display_name": "Python 3"
    },
    "language_info": {
      "codemirror_mode": {
        "name": "ipython",
        "version": 3
      },
      "file_extension": ".py",
      "mimetype": "text/x-python",
      "name": "python",
      "nbconvert_exporter": "python",
      "pygments_lexer": "ipython3",
      "version": "3.5.2"
    },
    "colab": {
      "name": "unirep_inference.ipynb",
      "provenance": [],
      "include_colab_link": true
    }
  },
  "cells": [
    {
      "cell_type": "markdown",
      "metadata": {
        "id": "view-in-github",
        "colab_type": "text"
      },
      "source": [
        "<a href=\"https://colab.research.google.com/github/smsaladi/UniRep/blob/master/unirep_inference.ipynb\" target=\"_parent\"><img src=\"https://colab.research.google.com/assets/colab-badge.svg\" alt=\"Open In Colab\"/></a>"
      ]
    },
    {
      "cell_type": "markdown",
      "metadata": {
        "id": "Hy66f--HBYOC",
        "colab_type": "text"
      },
      "source": [
        "## How to use the UniRep mLSTM \"babbler\". This version demonstrates the 64-unit and the 1900-unit architecture. \n",
        "\n",
        "We recommend getting started with the 64-unit architecture as it is easier and faster to run, but has the same interface as the 1900-unit one."
      ]
    },
    {
      "cell_type": "markdown",
      "metadata": {
        "id": "CNmmMR25C8od",
        "colab_type": "text"
      },
      "source": [
        "### Set up Colab environment\n",
        "\n",
        "* Install aws cli\n",
        "* Clone my fork of the Unirep repo\n",
        "* Move into repo folder\n",
        "* Weight download (below)\n",
        "* Test data download (below)"
      ]
    },
    {
      "cell_type": "code",
      "metadata": {
        "id": "kQBVBDsiCAyT",
        "colab_type": "code",
        "outputId": "75e1ced2-b3fd-4695-fec5-bbc24e0e037e",
        "colab": {
          "base_uri": "https://localhost:8080/",
          "height": 681
        }
      },
      "source": [
        "! pip install awscli\n",
        "! [[ ! -d /content/UniRep ]] && git clone https://github.com/smsaladi/UniRep.git\n",
        "\n",
        "import os\n",
        "os.chdir(\"/content/UniRep\")"
      ],
      "execution_count": 0,
      "outputs": [
        {
          "output_type": "stream",
          "text": [
            "Collecting awscli\n",
            "\u001b[?25l  Downloading https://files.pythonhosted.org/packages/84/74/f8b33032127d1e5920a67bf312c56a638c8cff5ad77997590c70ba77fef4/awscli-1.16.273-py2.py3-none-any.whl (2.4MB)\n",
            "\u001b[K     |████████████████████████████████| 2.4MB 2.8MB/s \n",
            "\u001b[?25hCollecting rsa<=3.5.0,>=3.1.2\n",
            "\u001b[?25l  Downloading https://files.pythonhosted.org/packages/e1/ae/baedc9cb175552e95f3395c43055a6a5e125ae4d48a1d7a924baca83e92e/rsa-3.4.2-py2.py3-none-any.whl (46kB)\n",
            "\u001b[K     |████████████████████████████████| 51kB 5.5MB/s \n",
            "\u001b[?25hRequirement already satisfied: PyYAML<5.2,>=3.10; python_version != \"2.6\" and python_version != \"3.3\" in /usr/local/lib/python3.6/dist-packages (from awscli) (3.13)\n",
            "Collecting colorama<0.4.2,>=0.2.5; python_version != \"2.6\" and python_version != \"3.3\"\n",
            "  Downloading https://files.pythonhosted.org/packages/4f/a6/728666f39bfff1719fc94c481890b2106837da9318031f71a8424b662e12/colorama-0.4.1-py2.py3-none-any.whl\n",
            "Requirement already satisfied: docutils<0.16,>=0.10 in /usr/local/lib/python3.6/dist-packages (from awscli) (0.15.2)\n",
            "Requirement already satisfied: s3transfer<0.3.0,>=0.2.0 in /usr/local/lib/python3.6/dist-packages (from awscli) (0.2.1)\n",
            "Collecting botocore==1.13.9\n",
            "\u001b[?25l  Downloading https://files.pythonhosted.org/packages/bd/45/042a6db7d025be8b04bd47528bc8db414de02e2e5802142e9fb45610d620/botocore-1.13.9-py2.py3-none-any.whl (5.3MB)\n",
            "\u001b[K     |████████████████████████████████| 5.3MB 51.5MB/s \n",
            "\u001b[?25hRequirement already satisfied: pyasn1>=0.1.3 in /usr/local/lib/python3.6/dist-packages (from rsa<=3.5.0,>=3.1.2->awscli) (0.4.7)\n",
            "Requirement already satisfied: urllib3<1.26,>=1.20; python_version >= \"3.4\" in /usr/local/lib/python3.6/dist-packages (from botocore==1.13.9->awscli) (1.24.3)\n",
            "Requirement already satisfied: python-dateutil<2.8.1,>=2.1; python_version >= \"2.7\" in /usr/local/lib/python3.6/dist-packages (from botocore==1.13.9->awscli) (2.6.1)\n",
            "Requirement already satisfied: jmespath<1.0.0,>=0.7.1 in /usr/local/lib/python3.6/dist-packages (from botocore==1.13.9->awscli) (0.9.4)\n",
            "Requirement already satisfied: six>=1.5 in /usr/local/lib/python3.6/dist-packages (from python-dateutil<2.8.1,>=2.1; python_version >= \"2.7\"->botocore==1.13.9->awscli) (1.12.0)\n",
            "Installing collected packages: rsa, colorama, botocore, awscli\n",
            "  Found existing installation: rsa 4.0\n",
            "    Uninstalling rsa-4.0:\n",
            "      Successfully uninstalled rsa-4.0\n",
            "  Found existing installation: botocore 1.13.4\n",
            "    Uninstalling botocore-1.13.4:\n",
            "      Successfully uninstalled botocore-1.13.4\n",
            "Successfully installed awscli-1.16.273 botocore-1.13.9 colorama-0.4.1 rsa-3.4.2\n"
          ],
          "name": "stdout"
        },
        {
          "output_type": "display_data",
          "data": {
            "application/vnd.colab-display-data+json": {
              "pip_warning": {
                "packages": [
                  "rsa"
                ]
              }
            }
          },
          "metadata": {
            "tags": []
          }
        },
        {
          "output_type": "stream",
          "text": [
            "Cloning into 'UniRep'...\n",
            "remote: Enumerating objects: 3, done.\u001b[K\n",
            "remote: Counting objects: 100% (3/3), done.\u001b[K\n",
            "remote: Compressing objects: 100% (3/3), done.\u001b[K\n",
            "remote: Total 127 (delta 0), reused 0 (delta 0), pack-reused 124\u001b[K\n",
            "Receiving objects: 100% (127/127), 197.86 KiB | 7.61 MiB/s, done.\n",
            "Resolving deltas: 100% (61/61), done.\n"
          ],
          "name": "stdout"
        }
      ]
    },
    {
      "cell_type": "markdown",
      "metadata": {
        "id": "TZWfqaXXBYOL",
        "colab_type": "text"
      },
      "source": [
        "Use the 64-unit or the 1900-unit model?"
      ]
    },
    {
      "cell_type": "code",
      "metadata": {
        "id": "izJ6MxBLBYOM",
        "colab_type": "code",
        "colab": {}
      },
      "source": [
        "USE_FULL_1900_DIM_MODEL = True # if True use 1900 dimensional model, else use 64 dimensional one."
      ],
      "execution_count": 0,
      "outputs": []
    },
    {
      "cell_type": "markdown",
      "metadata": {
        "id": "4TgkzyIIBYOT",
        "colab_type": "text"
      },
      "source": [
        "## Setup"
      ]
    },
    {
      "cell_type": "code",
      "metadata": {
        "id": "JxLz0vJYBYOU",
        "colab_type": "code",
        "outputId": "6b2b4aef-d1a6-4cfb-ba2c-7d460ff4dba9",
        "colab": {
          "base_uri": "https://localhost:8080/",
          "height": 51
        }
      },
      "source": [
        "%tensorflow_version 1.x\n",
        "import tensorflow as tf\n",
        "import numpy as np\n",
        "import pandas as pd\n",
        "\n",
        "# Set seeds\n",
        "tf.set_random_seed(42)\n",
        "np.random.seed(42)\n",
        "\n",
        "if USE_FULL_1900_DIM_MODEL:\n",
        "    # Sync relevant weight files\n",
        "    !aws s3 sync --no-sign-request --quiet s3://unirep-public/1900_weights/ 1900_weights/\n",
        "    \n",
        "    # Import the mLSTM babbler model\n",
        "    from unirep import babbler1900 as babbler\n",
        "    \n",
        "    # Where model weights are stored.\n",
        "    MODEL_WEIGHT_PATH = \"./1900_weights\"\n",
        "    \n",
        "else:\n",
        "    # Sync relevant weight files\n",
        "    !aws s3 sync --no-sign-request --quiet s3://unirep-public/64_weights/ 64_weights/\n",
        "    \n",
        "    # Import the mLSTM babbler model\n",
        "    from unirep import babbler64 as babbler\n",
        "    \n",
        "    # Where model weights are stored.\n",
        "    MODEL_WEIGHT_PATH = \"./64_weights\""
      ],
      "execution_count": 0,
      "outputs": [
        {
          "output_type": "stream",
          "text": [
            "WARNING:tensorflow:From /content/UniRep/unirep.py:43: The name tf.nn.rnn_cell.RNNCell is deprecated. Please use tf.compat.v1.nn.rnn_cell.RNNCell instead.\n",
            "\n"
          ],
          "name": "stdout"
        }
      ]
    },
    {
      "cell_type": "markdown",
      "metadata": {
        "id": "MrGhbmC7DFEK",
        "colab_type": "text"
      },
      "source": [
        "### Load Monkey patch `babbler.get_rep`\n",
        "\n",
        "This lets `get_rep` work with a batch_size > 1 and use a given tf.Session (without having to initialize it on its own). `get_rep` computes on all of the turns all of the passed sequences into a single batch.\n",
        "\n",
        "It won't work if they are of varying lengths, i.e. pad to the same length first. Sequences must also be passed as the values of a `pd.Series`. "
      ]
    },
    {
      "cell_type": "code",
      "metadata": {
        "id": "PkxJ03FsDMz3",
        "colab_type": "code",
        "outputId": "12df901a-3ada-4bdd-83b6-11fa24004cc8",
        "colab": {
          "base_uri": "https://localhost:8080/",
          "height": 725
        }
      },
      "source": [
        "! [[ ! -f secy_test.faa ]] && wget -O secy_test.faa 'https://www.uniprot.org/uniprot/?query=database:(type:pfam%20pf00344)&format=fasta&force=true&sort=score&fil=reviewed:yes'\n",
        "! pip install biopython\n",
        "%run run_inference.py"
      ],
      "execution_count": 0,
      "outputs": [
        {
          "output_type": "stream",
          "text": [
            "--2019-11-05 02:45:59--  https://www.uniprot.org/uniprot/?query=database:(type:pfam%20pf00344)&format=fasta&force=true&sort=score&fil=reviewed:yes\n",
            "Resolving www.uniprot.org (www.uniprot.org)... 193.62.193.81\n",
            "Connecting to www.uniprot.org (www.uniprot.org)|193.62.193.81|:443... connected.\n",
            "HTTP request sent, awaiting response... No data received.\n",
            "Retrying.\n",
            "\n",
            "--2019-11-05 02:46:44--  (try: 2)  https://www.uniprot.org/uniprot/?query=database:(type:pfam%20pf00344)&format=fasta&force=true&sort=score&fil=reviewed:yes\n",
            "Connecting to www.uniprot.org (www.uniprot.org)|193.62.193.81|:443... connected.\n",
            "HTTP request sent, awaiting response... No data received.\n",
            "Retrying.\n",
            "\n",
            "--2019-11-05 02:47:30--  (try: 3)  https://www.uniprot.org/uniprot/?query=database:(type:pfam%20pf00344)&format=fasta&force=true&sort=score&fil=reviewed:yes\n",
            "Connecting to www.uniprot.org (www.uniprot.org)|193.62.193.81|:443... connected.\n",
            "HTTP request sent, awaiting response... No data received.\n",
            "Retrying.\n",
            "\n",
            "--2019-11-05 02:48:16--  (try: 4)  https://www.uniprot.org/uniprot/?query=database:(type:pfam%20pf00344)&format=fasta&force=true&sort=score&fil=reviewed:yes\n",
            "Connecting to www.uniprot.org (www.uniprot.org)|193.62.193.81|:443... connected.\n",
            "HTTP request sent, awaiting response... 200 \n",
            "Length: unspecified [application/x-download]\n",
            "Saving to: ‘secy_test.faa’\n",
            "\n",
            "secy_test.faa           [  <=>               ]  89.80K   174KB/s    in 0.5s    \n",
            "\n",
            "2019-11-05 02:48:17 (174 KB/s) - ‘secy_test.faa’ saved [91955]\n",
            "\n",
            "Collecting biopython\n",
            "\u001b[?25l  Downloading https://files.pythonhosted.org/packages/ed/77/de3ba8f3d3015455f5df859c082729198ee6732deaeb4b87b9cfbfbaafe3/biopython-1.74-cp36-cp36m-manylinux1_x86_64.whl (2.2MB)\n",
            "\u001b[K     |████████████████████████████████| 2.2MB 2.8MB/s \n",
            "\u001b[?25hRequirement already satisfied: numpy in /usr/local/lib/python3.6/dist-packages (from biopython) (1.17.3)\n",
            "Installing collected packages: biopython\n",
            "Successfully installed biopython-1.74\n"
          ],
          "name": "stdout"
        },
        {
          "output_type": "stream",
          "text": [
            "Usage: run_inference.py [OPTIONS] SEQ_FN OUT_FN\n",
            "Try \"run_inference.py --help\" for help.\n",
            "\n",
            "Error: Missing argument \"SEQ_FN\".\n"
          ],
          "name": "stderr"
        },
        {
          "output_type": "error",
          "ename": "SystemExit",
          "evalue": "ignored",
          "traceback": [
            "An exception has occurred, use %tb to see the full traceback.\n",
            "\u001b[0;31mSystemExit\u001b[0m\u001b[0;31m:\u001b[0m 2\n"
          ]
        }
      ]
    },
    {
      "cell_type": "markdown",
      "metadata": {
        "id": "naS4dPPlMTyH",
        "colab_type": "text"
      },
      "source": [
        "Intialize babbler. `batch_size=1` doesn't actually do anything for the monkey patched `get_rep`"
      ]
    },
    {
      "cell_type": "code",
      "metadata": {
        "id": "pfpdXZF1DaA7",
        "colab_type": "code",
        "outputId": "bd30a84e-26ad-43b6-c7d4-38738fad0987",
        "colab": {
          "base_uri": "https://localhost:8080/",
          "height": 615
        }
      },
      "source": [
        "b = unirep.babbler1900(batch_size=1, model_path=\"./1900_weights\")"
      ],
      "execution_count": 0,
      "outputs": [
        {
          "output_type": "stream",
          "text": [
            "WARNING:tensorflow:From /content/UniRep/unirep.py:325: The name tf.placeholder is deprecated. Please use tf.compat.v1.placeholder instead.\n",
            "\n",
            "WARNING:tensorflow:From /content/UniRep/unirep.py:353: The name tf.get_variable is deprecated. Please use tf.compat.v1.get_variable instead.\n",
            "\n",
            "WARNING:tensorflow:From /content/UniRep/unirep.py:362: dynamic_rnn (from tensorflow.python.ops.rnn) is deprecated and will be removed in a future version.\n",
            "Instructions for updating:\n",
            "Please use `keras.layers.RNN(cell)`, which is equivalent to this API\n",
            "WARNING:tensorflow:From /usr/local/lib/python3.6/dist-packages/tensorflow_core/python/autograph/converters/directives.py:119: The name tf.variable_scope is deprecated. Please use tf.compat.v1.variable_scope instead.\n",
            "\n",
            "WARNING:tensorflow:From /content/UniRep/unirep.py:113: calling l2_normalize (from tensorflow.python.ops.nn_impl) with dim is deprecated and will be removed in a future version.\n",
            "Instructions for updating:\n",
            "dim is deprecated, use axis instead\n",
            "WARNING:tensorflow:\n",
            "The TensorFlow contrib module will not be included in TensorFlow 2.0.\n",
            "For more information, please see:\n",
            "  * https://github.com/tensorflow/community/blob/master/rfcs/20180907-contrib-sunset.md\n",
            "  * https://github.com/tensorflow/addons\n",
            "  * https://github.com/tensorflow/io (for I/O related ops)\n",
            "If you depend on functionality not listed there, please file an issue.\n",
            "\n",
            "WARNING:tensorflow:From /usr/local/lib/python3.6/dist-packages/tensorflow_core/contrib/layers/python/layers/layers.py:1866: Layer.apply (from tensorflow.python.keras.engine.base_layer) is deprecated and will be removed in a future version.\n",
            "Instructions for updating:\n",
            "Please use `layer.__call__` method instead.\n",
            "WARNING:tensorflow:From /content/UniRep/unirep.py:29: Categorical.__init__ (from tensorflow.python.ops.distributions.categorical) is deprecated and will be removed after 2019-01-01.\n",
            "Instructions for updating:\n",
            "The TensorFlow Distributions library has moved to TensorFlow Probability (https://github.com/tensorflow/probability). You should update all references to use `tfp.distributions` instead of `tf.distributions`.\n",
            "WARNING:tensorflow:From /usr/local/lib/python3.6/dist-packages/tensorflow_core/python/ops/distributions/categorical.py:242: Distribution.__init__ (from tensorflow.python.ops.distributions.distribution) is deprecated and will be removed after 2019-01-01.\n",
            "Instructions for updating:\n",
            "The TensorFlow Distributions library has moved to TensorFlow Probability (https://github.com/tensorflow/probability). You should update all references to use `tfp.distributions` instead of `tf.distributions`.\n",
            "WARNING:tensorflow:From /usr/local/lib/python3.6/dist-packages/tensorflow_core/python/ops/distributions/categorical.py:278: multinomial (from tensorflow.python.ops.random_ops) is deprecated and will be removed in a future version.\n",
            "Instructions for updating:\n",
            "Use `tf.random.categorical` instead.\n",
            "WARNING:tensorflow:From /content/UniRep/unirep.py:390: The name tf.Session is deprecated. Please use tf.compat.v1.Session instead.\n",
            "\n"
          ],
          "name": "stdout"
        }
      ]
    },
    {
      "cell_type": "markdown",
      "metadata": {
        "id": "A9Tf-EbnNJaE",
        "colab_type": "text"
      },
      "source": [
        "### Read test data and then run inference across a few conditions"
      ]
    },
    {
      "cell_type": "code",
      "metadata": {
        "id": "ZJkVbAI0NEOU",
        "colab_type": "code",
        "colab": {}
      },
      "source": [
        "seqs = series_from_seqio(\"secy_test.faa\", \"fasta\")\n",
        "max_len = len(max(seqs, key=len))\n",
        "seqs = seqs.apply(lambda s: s.ljust(max_len, 'X'))\n",
        "\n",
        "\n",
        "from timeit import default_timer as timer\n",
        "\n",
        "def grouper(ser, n):\n",
        "    ser_len = ser.size\n",
        "    for i in range(0, ser_len, n):\n",
        "        yield ser.iloc[i:(i+n)]\n",
        "\n",
        "def batch_size_vs_time(func, iterable, grp_size):\n",
        "  start = timer()\n",
        "  [func(grp) for grp in grouper(iterable, grp_size)]\n",
        "  end = timer()\n",
        "  return end - start"
      ],
      "execution_count": 0,
      "outputs": []
    },
    {
      "cell_type": "code",
      "metadata": {
        "id": "iGbMT7pmc2Fc",
        "colab_type": "code",
        "outputId": "795d7b42-b6f7-4685-bd1c-9e4a15792218",
        "colab": {
          "base_uri": "https://localhost:8080/",
          "height": 204
        }
      },
      "source": [
        "# CPU only\n",
        "with tf.Session() as sess:\n",
        "    unirep.initialize_uninitialized(sess)\n",
        "    def func(batch):\n",
        "      b.get_rep(batch, sess)\n",
        "    timing = [[gs, batch_size_vs_time(func, seqs, gs)] for gs in [16, 32, 64, 128, 256]]\n",
        "\n",
        "timing"
      ],
      "execution_count": 7,
      "outputs": [
        {
          "output_type": "stream",
          "text": [
            "WARNING:tensorflow:From /content/UniRep/unirep.py:35: The name tf.global_variables is deprecated. Please use tf.compat.v1.global_variables instead.\n",
            "\n",
            "WARNING:tensorflow:From /content/UniRep/unirep.py:36: The name tf.is_variable_initialized is deprecated. Please use tf.compat.v1.is_variable_initialized instead.\n",
            "\n",
            "WARNING:tensorflow:From /content/UniRep/unirep.py:39: The name tf.variables_initializer is deprecated. Please use tf.compat.v1.variables_initializer instead.\n",
            "\n"
          ],
          "name": "stdout"
        },
        {
          "output_type": "execute_result",
          "data": {
            "text/plain": [
              "[[16, 546.6658579950001],\n",
              " [32, 311.33970561499973],\n",
              " [64, 215.62030503999995],\n",
              " [128, 162.09657374400012],\n",
              " [256, 135.92662289999998]]"
            ]
          },
          "metadata": {
            "tags": []
          },
          "execution_count": 7
        }
      ]
    },
    {
      "cell_type": "code",
      "metadata": {
        "colab_type": "code",
        "id": "7GFNrr1fcKxg",
        "outputId": "9ca2bd3f-a8d2-4777-e3ff-2bd2d5320e6e",
        "colab": {
          "base_uri": "https://localhost:8080/",
          "height": 102
        }
      },
      "source": [
        "# with GPU\n",
        "with tf.Session() as sess:\n",
        "    unirep.initialize_uninitialized(sess)\n",
        "    def func(batch):\n",
        "      b.get_rep(batch, sess)\n",
        "    timing = [[gs, batch_size_vs_time(func, seqs, gs)] for gs in [16, 32, 64, 128, 256]]\n",
        "\n",
        "timing"
      ],
      "execution_count": 0,
      "outputs": [
        {
          "output_type": "execute_result",
          "data": {
            "text/plain": [
              "[[16, 26.899244273000022],\n",
              " [32, 13.71079222100002],\n",
              " [64, 8.502014164999991],\n",
              " [128, 6.426210394000009],\n",
              " [256, 4.381791538000016]]"
            ]
          },
          "metadata": {
            "tags": []
          },
          "execution_count": 21
        }
      ]
    },
    {
      "cell_type": "code",
      "metadata": {
        "id": "bKy6J2acbiTl",
        "colab_type": "code",
        "colab": {}
      },
      "source": [
        ""
      ],
      "execution_count": 0,
      "outputs": []
    }
  ]
}